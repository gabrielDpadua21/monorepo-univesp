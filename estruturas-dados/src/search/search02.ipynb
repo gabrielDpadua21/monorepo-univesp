{
 "cells": [
  {
   "cell_type": "markdown",
   "metadata": {},
   "source": [
    "## Algoritimos de busca"
   ]
  },
  {
   "cell_type": "markdown",
   "metadata": {},
   "source": [
    "### BUSCA BINARIA"
   ]
  },
  {
   "cell_type": "code",
   "execution_count": 6,
   "metadata": {},
   "outputs": [],
   "source": [
    "lista = [100, 2, 33, 44, 2, 21, 34, 45, 56, 76, 89, 90, 10, 11, 91]"
   ]
  },
  {
   "cell_type": "code",
   "execution_count": 7,
   "metadata": {},
   "outputs": [],
   "source": [
    "def insertion_sort(myList):\n",
    "    index = 0\n",
    "    indexAux = 0\n",
    "    \n",
    "    while index < len(myList):\n",
    "        indexAux = index + 1\n",
    "        while indexAux < len(myList):\n",
    "            if myList[index] > myList[indexAux]:\n",
    "                aux = myList[index]\n",
    "                myList[index] = myList[indexAux]\n",
    "                myList[indexAux] = aux\n",
    "            indexAux+=1\n",
    "        index+=1"
   ]
  },
  {
   "cell_type": "code",
   "execution_count": 12,
   "metadata": {},
   "outputs": [],
   "source": [
    "def binary_search(myList, element):\n",
    "    insertion_sort(myList)\n",
    "    \n",
    "    initial = 0;\n",
    "    final = len(myList);\n",
    "    middle = 0;\n",
    "    \n",
    "    while middle < final:\n",
    "        middle = int((initial + final) / 2)\n",
    "        if(element == myList[middle]):\n",
    "            return 0;\n",
    "        else:\n",
    "            if(element > myList[middle]):\n",
    "                initial = middle;\n",
    "            else:\n",
    "                final = middle;\n",
    "                \n",
    "    return -1;\n",
    "    "
   ]
  },
  {
   "cell_type": "code",
   "execution_count": 13,
   "metadata": {},
   "outputs": [
    {
     "name": "stdout",
     "output_type": "stream",
     "text": [
      "Elemento não encontrado\n"
     ]
    }
   ],
   "source": [
    "resp = binary_search(lista, 33)\n",
    "\n",
    "if resp < 0:\n",
    "    print('Elemento não encontrado')\n",
    "else:\n",
    "    print('Elemento encontrado')\n"
   ]
  }
 ],
 "metadata": {
  "kernelspec": {
   "display_name": "Python 3",
   "language": "python",
   "name": "python3"
  },
  "language_info": {
   "codemirror_mode": {
    "name": "ipython",
    "version": 3
   },
   "file_extension": ".py",
   "mimetype": "text/x-python",
   "name": "python",
   "nbconvert_exporter": "python",
   "pygments_lexer": "ipython3",
   "version": "3.7.3"
  }
 },
 "nbformat": 4,
 "nbformat_minor": 2
}
