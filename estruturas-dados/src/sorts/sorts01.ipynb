{
 "cells": [
  {
   "cell_type": "markdown",
   "metadata": {},
   "source": [
    "## ALGORITMOS DE ORDENAÇÃO"
   ]
  },
  {
   "cell_type": "markdown",
   "metadata": {},
   "source": [
    "### ORDENAÇÃO POR INSERÇÃO"
   ]
  },
  {
   "cell_type": "code",
   "execution_count": 2,
   "metadata": {},
   "outputs": [],
   "source": [
    "\n",
    "# ORDENAÇÃO POR INSERÇÃO - INSERINDO UM NUMERO E COMPARANDO POSIÇÃO POR POSIÇÃO\n",
    "\n",
    "lista = [4, 1, 3, 5, 6, 10, 13, 11, 12, 7, 8]"
   ]
  },
  {
   "cell_type": "code",
   "execution_count": 5,
   "metadata": {},
   "outputs": [],
   "source": [
    "def insertion_sort(listElem):\n",
    "    index = 0\n",
    "    auxIndex = 0\n",
    "    \n",
    "    while index < len(listElem):\n",
    "        auxIndex = index\n",
    "        while auxIndex < len(listElem):\n",
    "            if lista[index] > lista[auxIndex]:\n",
    "                aux = lista[index]\n",
    "                listElem[index] = lista[auxIndex]\n",
    "                listElem[auxIndex] = aux\n",
    "            auxIndex+=1\n",
    "        \n",
    "        index+=1\n",
    "    "
   ]
  },
  {
   "cell_type": "code",
   "execution_count": 6,
   "metadata": {},
   "outputs": [
    {
     "name": "stdout",
     "output_type": "stream",
     "text": [
      "[4, 1, 3, 5, 6, 10, 13, 11, 12, 7, 8]\n",
      "[1, 3, 4, 5, 6, 7, 8, 10, 11, 12, 13]\n"
     ]
    }
   ],
   "source": [
    "print(lista)\n",
    "\n",
    "insertion_sort(lista)\n",
    "\n",
    "print(lista)"
   ]
  }
 ],
 "metadata": {
  "kernelspec": {
   "display_name": "Python 3",
   "language": "python",
   "name": "python3"
  },
  "language_info": {
   "codemirror_mode": {
    "name": "ipython",
    "version": 3
   },
   "file_extension": ".py",
   "mimetype": "text/x-python",
   "name": "python",
   "nbconvert_exporter": "python",
   "pygments_lexer": "ipython3",
   "version": "3.7.3"
  }
 },
 "nbformat": 4,
 "nbformat_minor": 2
}
