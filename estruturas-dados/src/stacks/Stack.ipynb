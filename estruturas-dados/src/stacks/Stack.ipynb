{
 "cells": [
  {
   "cell_type": "markdown",
   "metadata": {},
   "source": [
    "## Stack Algorithm - Pilha\n",
    "\n",
    "Implementations"
   ]
  },
  {
   "cell_type": "code",
   "execution_count": 10,
   "metadata": {},
   "outputs": [],
   "source": [
    "class Stack():\n",
    "    def __init__(self):\n",
    "        self.items = []\n",
    "        \n",
    "    def insertElements(self, item):\n",
    "        self.items.append(item)\n",
    "        \n",
    "    def removeElements(self):\n",
    "        return self.items.pop()\n",
    "        \n",
    "    def printElements(self):\n",
    "        print(self.items)\n",
    "        \n",
    "    def peek(self):\n",
    "        if not self.is_empty():\n",
    "            return self.items[-1]\n",
    "        \n",
    "    def is_empty(self):\n",
    "        return self.items == []\n",
    "    \n",
    "    def size(self):\n",
    "        return len(self.items)"
   ]
  },
  {
   "cell_type": "code",
   "execution_count": 13,
   "metadata": {},
   "outputs": [
    {
     "name": "stdout",
     "output_type": "stream",
     "text": [
      "['A', 'B', 'C', 'A']\n",
      "['A', 'B', 'C']\n",
      "Empty: False\n",
      "Size: 3\n",
      "Top: C\n"
     ]
    }
   ],
   "source": [
    "stack = Stack()\n",
    "\n",
    "stack.insertElements('A')\n",
    "stack.insertElements('B')\n",
    "stack.insertElements('C')\n",
    "stack.insertElements('A')\n",
    "\n",
    "stack.printElements()\n",
    "\n",
    "stack.removeElements()\n",
    "\n",
    "stack.printElements()\n",
    "\n",
    "print('Empty: {}'.format(stack.is_empty()))\n",
    "print('Size: {}'.format(stack.size()))\n",
    "print('Top: {}'.format(stack.peek()))"
   ]
  },
  {
   "cell_type": "markdown",
   "metadata": {},
   "source": [
    "### Balanced parents verification with stack"
   ]
  }
 ],
 "metadata": {
  "kernelspec": {
   "display_name": "Python 3",
   "language": "python",
   "name": "python3"
  },
  "language_info": {
   "codemirror_mode": {
    "name": "ipython",
    "version": 3
   },
   "file_extension": ".py",
   "mimetype": "text/x-python",
   "name": "python",
   "nbconvert_exporter": "python",
   "pygments_lexer": "ipython3",
   "version": "3.6.5"
  }
 },
 "nbformat": 4,
 "nbformat_minor": 2
}
