{
 "cells": [
  {
   "cell_type": "markdown",
   "metadata": {},
   "source": [
    "## Filas - Queue"
   ]
  },
  {
   "cell_type": "markdown",
   "metadata": {},
   "source": [
    "#### Implementação estática"
   ]
  },
  {
   "cell_type": "code",
   "execution_count": 32,
   "metadata": {},
   "outputs": [
    {
     "name": "stdout",
     "output_type": "stream",
     "text": [
      "INICIALIZANDO A FILA \n",
      "TAMANHO DA FILA \n",
      "0 \n",
      "Fila: \" | 1  \"\n",
      " Fila: \" | 1 | 11  \"\n",
      " Fila: \" | 1 | 11 | 12  \"\n",
      " Fila: \" | 11 | 12  \"\n",
      " Fila: \"  \"\n",
      " "
     ]
    }
   ],
   "source": [
    "#include <stdio.h>\n",
    "#include <stdbool.h>\n",
    "\n",
    "#define MAX 50\n",
    "\n",
    "typedef int TIPOCHAVE;\n",
    "\n",
    "typedef struct {\n",
    "    TIPOCHAVE chave;\n",
    "} REGISTRO;\n",
    "\n",
    "typedef struct {\n",
    "    REGISTRO A[MAX];\n",
    "    int inicio;\n",
    "    int numeroElementos;\n",
    "} FILA;\n",
    "\n",
    "void inicializar(FILA *f) {\n",
    "    f->inicio = 0;\n",
    "    f->numeroElementos = 0;\n",
    "}\n",
    "\n",
    "int tamanho(FILA *f) {\n",
    "    return f->numeroElementos;\n",
    "}\n",
    "\n",
    "void imprimir(FILA *f) {\n",
    "    printf(\"Fila: \\\" \");\n",
    "    int i = f->inicio;\n",
    "    int temp;\n",
    "    for(temp = 0; temp < f->numeroElementos; temp++) {\n",
    "        printf(\"| %i \", f->A[i].chave);\n",
    "        i = (i + 1) % MAX;\n",
    "    }\n",
    "    printf(\" \\\"\\n \");\n",
    "}\n",
    "\n",
    "bool inserir(FILA *f, REGISTRO reg) {\n",
    "    if(f->numeroElementos >= MAX) {\n",
    "        return false;\n",
    "    }\n",
    "    \n",
    "    int posicao = (f->inicio + f->numeroElementos) % MAX;\n",
    "    \n",
    "    f->A[posicao] = reg;\n",
    "    f->numeroElementos++;\n",
    "    return true;\n",
    "}\n",
    "\n",
    "bool excluir(FILA *f, REGISTRO *reg) {\n",
    "    if(f->numeroElementos == 0) {\n",
    "        return false;\n",
    "    }\n",
    "    *reg = f->A[f->inicio];\n",
    "    f->inicio = (f->inicio + 1) % MAX;\n",
    "    f->numeroElementos--;\n",
    "    return true;\n",
    "}\n",
    "\n",
    "void reinicializar(FILA *f) {\n",
    "    f->inicio = 0;\n",
    "    f->numeroElementos = 0;\n",
    "}\n",
    "\n",
    "int main() {\n",
    "    \n",
    "    FILA f;\n",
    "    int tam;\n",
    "    REGISTRO reg;\n",
    "    REGISTRO excluido;\n",
    "    \n",
    "    printf(\"INICIALIZANDO A FILA \\n\");\n",
    "    inicializar(&f);\n",
    "    \n",
    "    printf(\"TAMANHO DA FILA \\n\");\n",
    "    tam = tamanho(&f);\n",
    "    printf(\"%d \\n\", tam);\n",
    "    \n",
    "    reg.chave = 1;\n",
    "    inserir(&f, reg);\n",
    "    imprimir(&f);\n",
    "    \n",
    "    reg.chave = 11;\n",
    "    inserir(&f, reg);\n",
    "    imprimir(&f);\n",
    "    \n",
    "    reg.chave = 12;\n",
    "    inserir(&f, reg);\n",
    "    imprimir(&f);\n",
    "    \n",
    "    excluir(&f, &excluido);\n",
    "    imprimir(&f);\n",
    "    \n",
    "    reinicializar(&f);\n",
    "    imprimir(&f);\n",
    "    \n",
    "    return 0;\n",
    "}"
   ]
  },
  {
   "cell_type": "markdown",
   "metadata": {},
   "source": [
    "#### Implementação dinámica"
   ]
  },
  {
   "cell_type": "code",
   "execution_count": 41,
   "metadata": {},
   "outputs": [],
   "source": [
    "#include <stdio.h>\n",
    "#include <stdbool.h>\n",
    "#include <malloc.h>\n",
    "\n",
    "typedef int TIPOCHAVE;\n",
    "\n",
    "typedef struct aux {\n",
    "    TIPOCHAVE chave;\n",
    "    struct aux * prox;\n",
    "} REGISTRO;\n",
    "\n",
    "typedef struct {\n",
    "    struct aux * inicio;\n",
    "    struct aux * fim;\n",
    "} FILA;\n",
    "\n",
    "int main() {\n",
    "    \n",
    "    return 0;\n",
    "}"
   ]
  },
  {
   "cell_type": "code",
   "execution_count": null,
   "metadata": {},
   "outputs": [],
   "source": []
  }
 ],
 "metadata": {
  "kernelspec": {
   "display_name": "C",
   "language": "c",
   "name": "c"
  },
  "language_info": {
   "file_extension": ".c",
   "mimetype": "text/plain",
   "name": "c"
  }
 },
 "nbformat": 4,
 "nbformat_minor": 2
}
